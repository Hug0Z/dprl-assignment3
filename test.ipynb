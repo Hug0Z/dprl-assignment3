{
 "cells": [
  {
   "cell_type": "code",
   "execution_count": 97,
   "metadata": {},
   "outputs": [],
   "source": [
    "import numpy as np\n",
    "import random\n",
    "import math"
   ]
  },
  {
   "cell_type": "code",
   "execution_count": 72,
   "metadata": {},
   "outputs": [],
   "source": [
    "EMPTY = 0\n",
    "CROSSES = 1\n",
    "CIRCLES = 2\n",
    "\n",
    "ROWS = 3\n",
    "COLUMNS = 3\n",
    "DIAGONALS = 2"
   ]
  },
  {
   "cell_type": "code",
   "execution_count": 73,
   "metadata": {},
   "outputs": [],
   "source": [
    "start_board = np.array((EMPTY, EMPTY, EMPTY, EMPTY, CROSSES, EMPTY, EMPTY, EMPTY, EMPTY))\n",
    "converter = lambda _: {EMPTY: \" \", CROSSES: \"X\", CIRCLES: \"O\"}[_]"
   ]
  },
  {
   "cell_type": "code",
   "execution_count": 74,
   "metadata": {},
   "outputs": [],
   "source": [
    "game_moves = [(\"X\", 4)]"
   ]
  },
  {
   "cell_type": "code",
   "execution_count": 75,
   "metadata": {},
   "outputs": [],
   "source": [
    "def possible_move(board: np.array) -> list:\n",
    "    return [i for i in range(len(board)) if board[i] == EMPTY]"
   ]
  },
  {
   "cell_type": "code",
   "execution_count": 76,
   "metadata": {},
   "outputs": [],
   "source": [
    "def opponent_move(board: np.array) -> np.array:\n",
    "    possible_moves = possible_move(board)\n",
    "    if len(possible_moves) != 0:\n",
    "        move = random.choice(possible_moves)\n",
    "        game_moves.append((\"X\", move))\n",
    "        board[move] = CROSSES\n",
    "        return board\n",
    "    else:\n",
    "        raise KeyError(\"Board is full\")"
   ]
  },
  {
   "cell_type": "code",
   "execution_count": 77,
   "metadata": {},
   "outputs": [],
   "source": [
    "def print_board( board: np.array) -> None:\n",
    "    data = np.reshape(board, (ROWS, COLUMNS))\n",
    "\n",
    "    for i, row in enumerate(data):\n",
    "        print(\n",
    "            f\" {converter(row[0])} | {converter(row[1])} | {converter(row[2])}\"\n",
    "        )\n",
    "        if i != len(data) - 1:\n",
    "            print(\"---+---+---\")"
   ]
  },
  {
   "cell_type": "code",
   "execution_count": 78,
   "metadata": {},
   "outputs": [],
   "source": [
    "def winning(board: np.array) -> tuple[bool, int]:\n",
    "    # ROWS\n",
    "    for i in range(ROWS):\n",
    "        if board[i] == board[i + 1] == board[i + 2] and board[i] != EMPTY:\n",
    "            return True, board[i]\n",
    "\n",
    "    # COLUMNS\n",
    "    for j in range(COLUMNS):\n",
    "        if board[j] == board[j + 3] == board[j + 6] and board[j] != EMPTY:\n",
    "            return True, board[j]\n",
    "\n",
    "    # DIAGONALS (start top left to bottom right, then top right to bottom left)\n",
    "    for k in range(DIAGONALS):\n",
    "        if board[0 if k == 0 else 3] == board[4] == board[8 if k == 0 else 6]:\n",
    "            return True, board[k]\n",
    "\n",
    "    # No winner yet\n",
    "    return False, None"
   ]
  },
  {
   "cell_type": "code",
   "execution_count": 79,
   "metadata": {},
   "outputs": [],
   "source": [
    "def selection(board: np.array, node: list = [0]) -> tuple[list, np.array]:\n",
    "    if random.choice([True, False]):\n",
    "        return node, board\n",
    "    else:\n",
    "        move = random.choice(possible_move(board))\n",
    "        board[move] = CIRCLES\n",
    "        node.append(move)\n",
    "        game_moves.append((\"O\", move))\n",
    "        # Stop if this is winning terminating node\n",
    "        if winning(board)[0]: return node, board\n",
    "        board = opponent_move(board)\n",
    "        # Stop if this is losing terminating node\n",
    "        if winning(board)[0]: return node, board\n",
    "        return selection(board, node)"
   ]
  },
  {
   "cell_type": "code",
   "execution_count": 80,
   "metadata": {},
   "outputs": [
    {
     "name": "stdout",
     "output_type": "stream",
     "text": [
      " X |   |  \n",
      "---+---+---\n",
      " O | X |  \n",
      "---+---+---\n",
      " O | X |  \n",
      "[0, 6, 3]\n",
      "[('X', 4), ('O', 6), ('X', 7), ('O', 3), ('X', 0)]\n"
     ]
    }
   ],
   "source": [
    "game_moves = [(\"X\", 4)]\n",
    "selection_moves, selection_board = selection(start_board.copy())\n",
    "print_board(selection_board)\n",
    "print(selection_moves)\n",
    "print(game_moves)"
   ]
  },
  {
   "cell_type": "code",
   "execution_count": 87,
   "metadata": {},
   "outputs": [],
   "source": [
    "def expansion(board: np.array) -> list:\n",
    "    children = []\n",
    "    for move in possible_move(board):\n",
    "        # Copy data\n",
    "        child_board = board.copy()\n",
    "        child_moves = game_moves.copy()\n",
    "\n",
    "        # Adjust for child\n",
    "        child_board[move] = CIRCLES\n",
    "        child_moves.append((\"O\", move))\n",
    "        children.append((child_moves, child_board))\n",
    "\n",
    "    return children"
   ]
  },
  {
   "cell_type": "code",
   "execution_count": 89,
   "metadata": {},
   "outputs": [
    {
     "name": "stdout",
     "output_type": "stream",
     "text": [
      " X | O |  \n",
      "---+---+---\n",
      " O | X |  \n",
      "---+---+---\n",
      " O | X |  \n",
      "[('X', 4), ('O', 6), ('X', 7), ('O', 3), ('X', 0), ('O', 1)]\n",
      " X |   | O\n",
      "---+---+---\n",
      " O | X |  \n",
      "---+---+---\n",
      " O | X |  \n",
      "[('X', 4), ('O', 6), ('X', 7), ('O', 3), ('X', 0), ('O', 2)]\n",
      " X |   |  \n",
      "---+---+---\n",
      " O | X | O\n",
      "---+---+---\n",
      " O | X |  \n",
      "[('X', 4), ('O', 6), ('X', 7), ('O', 3), ('X', 0), ('O', 5)]\n",
      " X |   |  \n",
      "---+---+---\n",
      " O | X |  \n",
      "---+---+---\n",
      " O | X | O\n",
      "[('X', 4), ('O', 6), ('X', 7), ('O', 3), ('X', 0), ('O', 8)]\n"
     ]
    }
   ],
   "source": [
    "for m, b in expansion(selection_board):\n",
    "    print_board(b)\n",
    "    print(m)"
   ]
  },
  {
   "cell_type": "code",
   "execution_count": 101,
   "metadata": {},
   "outputs": [],
   "source": [
    "def rollout(board: np.array) -> tuple[float, int]:\n",
    "    score = 0\n",
    "    #first opponent move\n",
    "    for opm in possible_move(board):\n",
    "        # Update board\n",
    "        new_board = board.copy()\n",
    "        new_board[opm] = CROSSES\n",
    "\n",
    "        t, w = winning(new_board)\n",
    "        if t: \n",
    "            score += 1 if w == CIRCLES else 0\n",
    "        elif len(possible_move(new_board)) == 0:\n",
    "            score += 0.5\n",
    "            \n",
    "        else:\n",
    "            # our move\n",
    "            for usm in possible_move(new_board):\n",
    "                # Update board\n",
    "                newer_board = new_board.copy()\n",
    "                newer_board[usm] = CIRCLES\n",
    "\n",
    "                t, w = winning(newer_board)\n",
    "                if t: \n",
    "                    score += 1 if w == CIRCLES else 0\n",
    "                elif len(possible_move(newer_board)) == 0:\n",
    "                    score += 0.5\n",
    "                else:\n",
    "                    score += rollout(new_board)[0] \n",
    "\n",
    "    n = math.factorial(len(possible_move(board)))\n",
    "    return score, n"
   ]
  },
  {
   "cell_type": "code",
   "execution_count": 105,
   "metadata": {},
   "outputs": [
    {
     "name": "stdout",
     "output_type": "stream",
     "text": [
      " X | O |  \n",
      "---+---+---\n",
      " O | X |  \n",
      "---+---+---\n",
      " O | X |  \n",
      "win percentage: 0.4166666666666667\n",
      " X |   | O\n",
      "---+---+---\n",
      " O | X |  \n",
      "---+---+---\n",
      " O | X |  \n",
      "win percentage: 0.16666666666666666\n",
      " X |   |  \n",
      "---+---+---\n",
      " O | X | O\n",
      "---+---+---\n",
      " O | X |  \n",
      "win percentage: 0.0\n",
      " X |   |  \n",
      "---+---+---\n",
      " O | X |  \n",
      "---+---+---\n",
      " O | X | O\n",
      "win percentage: 0.3333333333333333\n"
     ]
    }
   ],
   "source": [
    "for m, b in expansion(selection_board):\n",
    "    print_board(b)\n",
    "    # print(m)\n",
    "\n",
    "    score, n = rollout(b)\n",
    "    # print(score)\n",
    "    # print(n)\n",
    "    print(f\"win percentage: {score/n}\")"
   ]
  }
 ],
 "metadata": {
  "kernelspec": {
   "display_name": "Python 3.10.1 64-bit",
   "language": "python",
   "name": "python3"
  },
  "language_info": {
   "codemirror_mode": {
    "name": "ipython",
    "version": 3
   },
   "file_extension": ".py",
   "mimetype": "text/x-python",
   "name": "python",
   "nbconvert_exporter": "python",
   "pygments_lexer": "ipython3",
   "version": "3.10.1"
  },
  "orig_nbformat": 4,
  "vscode": {
   "interpreter": {
    "hash": "7a0138d27dc15ee4cb695af8dd977fbb152b4b260c442a2ca2d6adae8ed2f5ee"
   }
  }
 },
 "nbformat": 4,
 "nbformat_minor": 2
}
