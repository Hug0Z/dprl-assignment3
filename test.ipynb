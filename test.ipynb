{
 "cells": [
  {
   "cell_type": "code",
   "execution_count": 130,
   "metadata": {},
   "outputs": [],
   "source": [
    "import numpy as np\n",
    "import random\n",
    "import math"
   ]
  },
  {
   "cell_type": "code",
   "execution_count": 131,
   "metadata": {},
   "outputs": [],
   "source": [
    "EMPTY = 0\n",
    "CROSSES = 1\n",
    "CIRCLES = 2\n",
    "\n",
    "ROWS = 3\n",
    "COLUMNS = 3\n",
    "DIAGONALS = 2\n",
    "\n",
    "WIN = 1\n",
    "DRAW = 0.5\n",
    "LOSS = 0"
   ]
  },
  {
   "cell_type": "code",
   "execution_count": 132,
   "metadata": {},
   "outputs": [],
   "source": [
    "start_board = np.array((EMPTY, EMPTY, EMPTY, EMPTY, CROSSES, EMPTY, EMPTY, EMPTY, EMPTY))\n",
    "converter = lambda _: {EMPTY: \" \", CROSSES: \"X\", CIRCLES: \"O\"}[_]"
   ]
  },
  {
   "cell_type": "code",
   "execution_count": 133,
   "metadata": {},
   "outputs": [],
   "source": [
    "game_moves = [(\"X\", 4)]"
   ]
  },
  {
   "cell_type": "code",
   "execution_count": 134,
   "metadata": {},
   "outputs": [],
   "source": [
    "def possible_move(board: np.array) -> list:\n",
    "    return [i for i in range(len(board)) if board[i] == EMPTY]"
   ]
  },
  {
   "cell_type": "code",
   "execution_count": 135,
   "metadata": {},
   "outputs": [],
   "source": [
    "def opponent_move(board: np.array) -> np.array:\n",
    "    possible_moves = possible_move(board)\n",
    "    if len(possible_moves) != 0:\n",
    "        move = random.choice(possible_moves)\n",
    "        game_moves.append((\"X\", move))\n",
    "        board[move] = CROSSES\n",
    "        return board\n",
    "    else:\n",
    "        raise KeyError(\"Board is full\")"
   ]
  },
  {
   "cell_type": "code",
   "execution_count": 136,
   "metadata": {},
   "outputs": [],
   "source": [
    "def print_board( board: np.array) -> None:\n",
    "    data = np.reshape(board, (ROWS, COLUMNS))\n",
    "\n",
    "    for i, row in enumerate(data):\n",
    "        print(\n",
    "            f\" {converter(row[0])} | {converter(row[1])} | {converter(row[2])}\"\n",
    "        )\n",
    "        if i != len(data) - 1:\n",
    "            print(\"---+---+---\")"
   ]
  },
  {
   "cell_type": "code",
   "execution_count": 137,
   "metadata": {},
   "outputs": [],
   "source": [
    "def winning(board: np.array) -> tuple[bool, int]:\n",
    "    # ROWS\n",
    "    for i in range(0, ROWS*DIAGONALS, ROWS):\n",
    "        if board[i] == board[i + 1] == board[i + 2] and board[i] != EMPTY:\n",
    "            return True, board[i]\n",
    "\n",
    "    # COLUMNS\n",
    "    for j in range(COLUMNS):\n",
    "        if board[j] == board[j + 3] == board[j + 6] and board[j] != EMPTY:\n",
    "            return True, board[j]\n",
    "\n",
    "    # DIAGONALS (start top left to bottom right, then top right to bottom left)\n",
    "    for k in range(DIAGONALS):\n",
    "        if board[0 if k == 0 else 2] == board[4] == board[8 if k == 0 else 6]:\n",
    "            return True, board[k]\n",
    "\n",
    "    # No winner yet\n",
    "    return False, None"
   ]
  },
  {
   "cell_type": "code",
   "execution_count": 138,
   "metadata": {},
   "outputs": [],
   "source": [
    "def selection(board: np.array, node: list = []) -> tuple[list, np.array]:\n",
    "    if random.choice([True, False]):\n",
    "        return node, board\n",
    "    else:\n",
    "        move = random.choice(possible_move(board))\n",
    "        board[move] = CIRCLES\n",
    "        node.append(move)\n",
    "        game_moves.append((\"O\", move))\n",
    "        # Stop if this is winning terminating node\n",
    "        if winning(board)[0]: return node, board\n",
    "        board = opponent_move(board)\n",
    "        # Stop if this is losing terminating node\n",
    "        if winning(board)[0]: return node, board\n",
    "        return selection(board, node)"
   ]
  },
  {
   "cell_type": "code",
   "execution_count": 139,
   "metadata": {},
   "outputs": [
    {
     "name": "stdout",
     "output_type": "stream",
     "text": [
      "   |   |  \n",
      "---+---+---\n",
      "   | X |  \n",
      "---+---+---\n",
      "   |   |  \n",
      "[]\n",
      "[('X', 4)]\n"
     ]
    }
   ],
   "source": [
    "game_moves = [(\"X\", 4)]\n",
    "selection_moves, selection_board = selection(start_board.copy())\n",
    "print_board(selection_board)\n",
    "print(selection_moves)\n",
    "print(game_moves)"
   ]
  },
  {
   "cell_type": "code",
   "execution_count": 140,
   "metadata": {},
   "outputs": [],
   "source": [
    "def expansion(board: np.array) -> list:\n",
    "    children = []\n",
    "    for move in possible_move(board):\n",
    "        # Copy data\n",
    "        child_board = board.copy()\n",
    "        child_moves = game_moves.copy()\n",
    "\n",
    "        # Adjust for child\n",
    "        child_board[move] = CIRCLES\n",
    "        child_moves.append((\"O\", move))\n",
    "        children.append((child_moves, child_board))\n",
    "\n",
    "    return children"
   ]
  },
  {
   "cell_type": "code",
   "execution_count": 141,
   "metadata": {},
   "outputs": [
    {
     "name": "stdout",
     "output_type": "stream",
     "text": [
      " O |   |  \n",
      "---+---+---\n",
      "   | X |  \n",
      "---+---+---\n",
      "   |   |  \n",
      "[('X', 4), ('O', 0)]\n",
      "   | O |  \n",
      "---+---+---\n",
      "   | X |  \n",
      "---+---+---\n",
      "   |   |  \n",
      "[('X', 4), ('O', 1)]\n",
      "   |   | O\n",
      "---+---+---\n",
      "   | X |  \n",
      "---+---+---\n",
      "   |   |  \n",
      "[('X', 4), ('O', 2)]\n",
      "   |   |  \n",
      "---+---+---\n",
      " O | X |  \n",
      "---+---+---\n",
      "   |   |  \n",
      "[('X', 4), ('O', 3)]\n",
      "   |   |  \n",
      "---+---+---\n",
      "   | X | O\n",
      "---+---+---\n",
      "   |   |  \n",
      "[('X', 4), ('O', 5)]\n",
      "   |   |  \n",
      "---+---+---\n",
      "   | X |  \n",
      "---+---+---\n",
      " O |   |  \n",
      "[('X', 4), ('O', 6)]\n",
      "   |   |  \n",
      "---+---+---\n",
      "   | X |  \n",
      "---+---+---\n",
      "   | O |  \n",
      "[('X', 4), ('O', 7)]\n",
      "   |   |  \n",
      "---+---+---\n",
      "   | X |  \n",
      "---+---+---\n",
      "   |   | O\n",
      "[('X', 4), ('O', 8)]\n"
     ]
    }
   ],
   "source": [
    "for m, b in expansion(selection_board):\n",
    "    print_board(b)\n",
    "    print(m)"
   ]
  },
  {
   "cell_type": "code",
   "execution_count": 149,
   "metadata": {},
   "outputs": [],
   "source": [
    "# Play random game\n",
    "def rollout(moves: list, board: np.array) -> tuple[list, np.array, float]:\n",
    "    rollout_board = board.copy()\n",
    "    game = moves\n",
    "    player = CROSSES\n",
    "    score = None\n",
    "    while True:\n",
    "        pos_moves = possible_move(rollout_board)\n",
    "        move = random.choice(pos_moves)\n",
    "        rollout_board[move] = player\n",
    "        game.append((converter(player), move))\n",
    "        player =  CIRCLES if player == CROSSES else CROSSES #flip player\n",
    "\n",
    "        # ending conditions (winning or draw)\n",
    "        t, w = winning(rollout_board)\n",
    "        if t: \n",
    "            score = WIN if w == CIRCLES else LOSS\n",
    "            break\n",
    "\n",
    "        if len(pos_moves) == 1:\n",
    "            score = DRAW\n",
    "            break\n",
    "    \n",
    "    return game, rollout_board, score"
   ]
  },
  {
   "cell_type": "code",
   "execution_count": 143,
   "metadata": {},
   "outputs": [],
   "source": [
    "# Try all possible solutions\n",
    "# def rollout(board: np.array) -> tuple[float, int]:\n",
    "#     score = 0\n",
    "#     #first opponent move\n",
    "#     for opm in possible_move(board):\n",
    "#         # Update board\n",
    "#         new_board = board.copy()\n",
    "#         new_board[opm] = CROSSES\n",
    "\n",
    "#         t, w = winning(new_board)\n",
    "#         if t: \n",
    "#             score += 1 if w == CIRCLES else 0\n",
    "#         elif len(possible_move(new_board)) == 0:\n",
    "#             score += 0.5\n",
    "            \n",
    "#         else:\n",
    "#             # our move\n",
    "#             for usm in possible_move(new_board):\n",
    "#                 # Update board\n",
    "#                 newer_board = new_board.copy()\n",
    "#                 newer_board[usm] = CIRCLES\n",
    "\n",
    "#                 t, w = winning(newer_board)\n",
    "#                 if t: \n",
    "#                     score += 1 if w == CIRCLES else 0\n",
    "#                 elif len(possible_move(newer_board)) == 0:\n",
    "#                     score += 0.5\n",
    "#                 else:\n",
    "#                     score += rollout(new_board)[0] \n",
    "\n",
    "#     n = math.factorial(len(possible_move(board)))\n",
    "#     return score, n"
   ]
  },
  {
   "cell_type": "code",
   "execution_count": 150,
   "metadata": {},
   "outputs": [
    {
     "name": "stdout",
     "output_type": "stream",
     "text": [
      "[('X', 4), ('O', 0), ('X', 2), ('O', 7), ('X', 6)]\n",
      " O |   | X\n",
      "---+---+---\n",
      "   | X |  \n",
      "---+---+---\n",
      " X | O |  \n",
      "0\n",
      "[('X', 4), ('O', 1), ('X', 6), ('O', 7), ('X', 5), ('O', 2), ('X', 8), ('O', 3), ('X', 0)]\n",
      " X | O | O\n",
      "---+---+---\n",
      " O | X | X\n",
      "---+---+---\n",
      " X | O | X\n",
      "0\n",
      "[('X', 4), ('O', 2), ('X', 3), ('O', 0), ('X', 7), ('O', 8), ('X', 5)]\n",
      " O |   | O\n",
      "---+---+---\n",
      " X | X | X\n",
      "---+---+---\n",
      "   | X | O\n",
      "0\n",
      "[('X', 4), ('O', 3), ('X', 0), ('O', 7), ('X', 6), ('O', 8), ('X', 2)]\n",
      " X |   | X\n",
      "---+---+---\n",
      " O | X |  \n",
      "---+---+---\n",
      " X | O | O\n",
      "0\n",
      "[('X', 4), ('O', 5), ('X', 7), ('O', 0), ('X', 3), ('O', 6), ('X', 8), ('O', 2), ('X', 1)]\n",
      " O | X | O\n",
      "---+---+---\n",
      " X | X | O\n",
      "---+---+---\n",
      " O | X | X\n",
      "0\n",
      "[('X', 4), ('O', 6), ('X', 7), ('O', 2), ('X', 1)]\n",
      "   | X | O\n",
      "---+---+---\n",
      "   | X |  \n",
      "---+---+---\n",
      " O | X |  \n",
      "0\n",
      "[('X', 4), ('O', 7), ('X', 5), ('O', 3), ('X', 6), ('O', 2), ('X', 1), ('O', 8), ('X', 0)]\n",
      " X | X | O\n",
      "---+---+---\n",
      " O | X | X\n",
      "---+---+---\n",
      " X | O | O\n",
      "0.5\n",
      "[('X', 4), ('O', 8), ('X', 6), ('O', 0), ('X', 3), ('O', 7), ('X', 1), ('O', 5), ('X', 2)]\n",
      " O | X | X\n",
      "---+---+---\n",
      " X | X | O\n",
      "---+---+---\n",
      " X | O | O\n",
      "0\n"
     ]
    }
   ],
   "source": [
    "for m, b in expansion(selection_board):\n",
    "    #print_board(b)\n",
    "    # print(m)\n",
    "\n",
    "    game, _board, score = rollout(m, b)\n",
    "    # print(score)\n",
    "    # print(n)\n",
    "    print(game)\n",
    "    print_board(_board)\n",
    "    print(score)\n",
    "    # print(f\"win percentage: {score}\")"
   ]
  }
 ],
 "metadata": {
  "kernelspec": {
   "display_name": "Python 3.10.1 64-bit",
   "language": "python",
   "name": "python3"
  },
  "language_info": {
   "codemirror_mode": {
    "name": "ipython",
    "version": 3
   },
   "file_extension": ".py",
   "mimetype": "text/x-python",
   "name": "python",
   "nbconvert_exporter": "python",
   "pygments_lexer": "ipython3",
   "version": "3.10.1"
  },
  "orig_nbformat": 4,
  "vscode": {
   "interpreter": {
    "hash": "7a0138d27dc15ee4cb695af8dd977fbb152b4b260c442a2ca2d6adae8ed2f5ee"
   }
  }
 },
 "nbformat": 4,
 "nbformat_minor": 2
}
