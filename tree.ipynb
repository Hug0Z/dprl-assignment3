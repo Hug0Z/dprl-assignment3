{
 "cells": [
  {
   "cell_type": "code",
   "execution_count": 9,
   "metadata": {},
   "outputs": [],
   "source": [
    "import numpy as np"
   ]
  },
  {
   "cell_type": "code",
   "execution_count": 6,
   "metadata": {},
   "outputs": [],
   "source": [
    "def moves_to_id_converter(moves: list) -> str:\n",
    "    return ''.join(['-' + p + str(m) for p, m in moves])[1:]"
   ]
  },
  {
   "cell_type": "code",
   "execution_count": null,
   "metadata": {},
   "outputs": [],
   "source": [
    "class Node(object):\n",
    "    def __init__(\n",
    "        self,\n",
    "        id: str, #X4....\n",
    "        board: np.array = None,\n",
    "        moves: list = [],\n",
    "        count: int = 0,\n",
    "        reward: int = 0,\n",
    "    ):\n",
    "        self.id = id\n",
    "        self.board = board\n",
    "        self.moves = moves\n",
    "        self.count = count\n",
    "        self.reward = reward\n",
    "        self.child_id = []\n",
    "        self.children = []\n",
    "\n",
    "    def add_child(self, child):\n",
    "        self.children.append(child)\n",
    "        self.child_id.append(child.id)\n",
    "\n",
    "    def get_node_q_value(self):\n",
    "        q = 0\n",
    "        for c in self.children:\n",
    "            q += c.reward / c.count\n",
    "        return q\n",
    "\n",
    "    def child_exists(self, child_id: str = 'X4'):\n",
    "        return True if child_id in self.child_id else False\n",
    "\n",
    "    def find_best_move(self, opponent_move: tuple, board: np.array): # opponent_move = ('X', ..)\n",
    "        max = 0\n",
    "        move = -1\n",
    "        for c in self.children:\n",
    "            if c.moves[-2] == opponent_move: #might be -1 instead of -2\n",
    "                if c.reward > 0 and c.count > 0:\n",
    "                    if c.reward / c.count > max and move not in board:\n",
    "                        max = c.reward / c.count\n",
    "                        move = c.moves[0]\n",
    "        return move\n",
    "\n",
    "    def walk_tree_add_reward(self, moves: list, reward: float):\n",
    "        moves_id = moves_to_id_converter(moves)\n",
    "        _ = 0\n",
    "        for __ in moves:\n",
    "            _ += 1\n",
    "            # Top to bottom\n",
    "            if _ < len(moves):\n",
    "                for c in self.children:\n",
    "                    if c.id in moves_id:\n",
    "                        c.count += 1\n",
    "                        c.reward += reward\n",
    "                        self = c\n",
    "            # Final node (terminating)\n",
    "            else:\n",
    "                self.count += 1\n",
    "                self.reward += reward\n"
   ]
  }
 ],
 "metadata": {
  "kernelspec": {
   "display_name": "Python 3.10.1 64-bit",
   "language": "python",
   "name": "python3"
  },
  "language_info": {
   "codemirror_mode": {
    "name": "ipython",
    "version": 3
   },
   "file_extension": ".py",
   "mimetype": "text/x-python",
   "name": "python",
   "nbconvert_exporter": "python",
   "pygments_lexer": "ipython3",
   "version": "3.10.1"
  },
  "orig_nbformat": 4,
  "vscode": {
   "interpreter": {
    "hash": "7a0138d27dc15ee4cb695af8dd977fbb152b4b260c442a2ca2d6adae8ed2f5ee"
   }
  }
 },
 "nbformat": 4,
 "nbformat_minor": 2
}
